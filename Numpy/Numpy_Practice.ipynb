{
  "nbformat": 4,
  "nbformat_minor": 0,
  "metadata": {
    "colab": {
      "provenance": []
    },
    "kernelspec": {
      "name": "python3",
      "display_name": "Python 3"
    },
    "language_info": {
      "name": "python"
    }
  },
  "cells": [
    {
      "cell_type": "markdown",
      "source": [
        "# NumPy Practice Notebook\n",
        "\n",
        "This notebook contains a series of practice problems to help you understand and apply core concepts in NumPy.\n",
        "\n",
        "---\n",
        "\n",
        "## 🧩 1. Array Creation\n",
        "**Question:** Create the following arrays using NumPy:\n",
        "1. A 1D array with numbers from 0 to 9\n",
        "2. A 2D array of shape (3, 3) filled with zeros\n",
        "3. A 2D array of shape (2, 4) filled with ones\n",
        "4. A 3x3 identity matrix\n",
        "\n",
        "\n",
        "---\n"
      ],
      "metadata": {
        "id": "DIl4swbP_Iux"
      }
    },
    {
      "cell_type": "code",
      "source": [
        "import numpy as np\n",
        "arr1=np.arange(10)\n",
        "print(arr1)\n",
        "print('='*50)\n",
        "arr2=np.zeros(9).reshape(3,3)\n",
        "print(arr2)\n",
        "print('='*50)\n",
        "arr3=np.ones(8).reshape(2,4)\n",
        "print(arr3)\n",
        "print('='*50)\n",
        "arr4=np.identity(3)\n",
        "print(arr4)\n",
        "print('='*50)"
      ],
      "metadata": {
        "id": "Z2WD9-cU_6y8",
        "colab": {
          "base_uri": "https://localhost:8080/"
        },
        "outputId": "2aeb8ed1-75b4-46e1-c8c7-87bb71c2f52c"
      },
      "execution_count": null,
      "outputs": [
        {
          "output_type": "stream",
          "name": "stdout",
          "text": [
            "[0 1 2 3 4 5 6 7 8 9]\n",
            "==================================================\n",
            "[[0. 0. 0.]\n",
            " [0. 0. 0.]\n",
            " [0. 0. 0.]]\n",
            "==================================================\n",
            "[[1. 1. 1. 1.]\n",
            " [1. 1. 1. 1.]]\n",
            "==================================================\n",
            "[[1. 0. 0.]\n",
            " [0. 1. 0.]\n",
            " [0. 0. 1.]]\n",
            "==================================================\n"
          ]
        }
      ]
    },
    {
      "cell_type": "markdown",
      "source": [
        "\n",
        "## 🧪 2. Array Inspection\n",
        "**Question:** Given a NumPy array `arr`, print:\n",
        "1. Its shape\n",
        "2. Its data type\n",
        "3. The number of dimensions\n",
        "4. The total number of elements\n",
        "\n",
        "```python\n",
        "arr = np.array([[1, 2, 3], [4, 5, 6]])\n",
        "\n",
        "```\n",
        "\n",
        "---\n"
      ],
      "metadata": {
        "id": "UAFotM1N_h8t"
      }
    },
    {
      "cell_type": "code",
      "source": [
        "arr = np.array([[1, 2, 3], [4, 5, 6]])\n",
        "print(arr.shape)\n",
        "print('='*50)\n",
        "print(arr.dtype)\n",
        "print('='*50)\n",
        "print(arr.ndim)\n",
        "print('='*50)\n",
        "print(arr.nbytes)\n",
        "print('='*50)"
      ],
      "metadata": {
        "colab": {
          "base_uri": "https://localhost:8080/"
        },
        "id": "cDZ4ckJa__y-",
        "outputId": "874c1900-6cbc-4aec-b34c-6f5cd7024aa6"
      },
      "execution_count": null,
      "outputs": [
        {
          "output_type": "stream",
          "name": "stdout",
          "text": [
            "(2, 3)\n",
            "==================================================\n",
            "int64\n",
            "==================================================\n",
            "2\n",
            "==================================================\n",
            "48\n",
            "==================================================\n"
          ]
        }
      ]
    },
    {
      "cell_type": "markdown",
      "source": [
        "\n",
        "## 🔍 3. Indexing and Slicing\n",
        "**Question:** Using the array below, do the following:\n",
        "1. Slice the first two rows\n",
        "2. Get the last column\n",
        "3. Extract the element in the second row and third column\n",
        "4. Reverse the rows\n",
        "\n",
        "```python\n",
        "arr = np.array([[10, 20, 30], [40, 50, 60], [70, 80, 90]])\n",
        "\n",
        "```\n"
      ],
      "metadata": {
        "id": "ssUHqVJR_lyu"
      }
    },
    {
      "cell_type": "code",
      "source": [
        "arr = np.array([[10, 20, 30], [40, 50, 60], [70, 80, 90]])\n",
        "print('='*50)\n",
        "\n",
        "print(arr[:2])\n",
        "print('='*50)\n",
        "\n",
        "print(arr[:,-1])\n",
        "print('='*50)\n",
        "\n",
        "print(arr[1,2])\n",
        "print('='*50)\n",
        "\n",
        "arr2=arr[-1:-4:-1]\n",
        "print(arr2)\n"
      ],
      "metadata": {
        "id": "EHK3lYVn_8vR",
        "colab": {
          "base_uri": "https://localhost:8080/"
        },
        "outputId": "dca4bdbd-3676-4e04-d291-974c3da4401c"
      },
      "execution_count": null,
      "outputs": [
        {
          "output_type": "stream",
          "name": "stdout",
          "text": [
            "==================================================\n",
            "[[10 20 30]\n",
            " [40 50 60]]\n",
            "==================================================\n",
            "[30 60 90]\n",
            "==================================================\n",
            "60\n",
            "==================================================\n",
            "[[70 80 90]\n",
            " [40 50 60]\n",
            " [10 20 30]]\n"
          ]
        }
      ]
    },
    {
      "cell_type": "markdown",
      "source": [
        "\n",
        "---\n",
        "\n",
        "## 🔁 4. More Slicing Practice\n",
        "**Question:**\n",
        "Given the array below, extract:\n",
        "1. All even numbers\n",
        "2. The second and third rows\n",
        "3. The last two columns\n",
        "4. A subarray containing the middle 2x2 block\n",
        "\n",
        "```python\n",
        "arr = np.array([[1, 2, 3, 4],\n",
        "                [5, 6, 7, 8],\n",
        "                [9, 10, 11, 12],\n",
        "                [13, 14, 15, 16]])\n",
        "\n",
        "```\n"
      ],
      "metadata": {
        "id": "DwYyM0b1_nA5"
      }
    },
    {
      "cell_type": "code",
      "source": [
        "arr = np.array([[1, 2, 3, 4],\n",
        "                [5, 6, 7, 8],\n",
        "                [9, 10, 11, 12],\n",
        "                [13, 14, 15, 16]])\n",
        "arr2=arr[arr %2==0]\n",
        "print(arr2)\n",
        "print('='*50)\n",
        "\n",
        "print(arr[1:3])\n",
        "print('='*50)\n",
        "\n",
        "print(arr[:,2:4])\n",
        "print('='*50)\n",
        "\n",
        "print(arr[1:3,1:3])\n",
        "print('='*50)\n"
      ],
      "metadata": {
        "id": "Z9dvnQF2_9xI",
        "colab": {
          "base_uri": "https://localhost:8080/"
        },
        "outputId": "d8bdc724-4dd8-4858-b3a2-005cacf95c76"
      },
      "execution_count": null,
      "outputs": [
        {
          "output_type": "stream",
          "name": "stdout",
          "text": [
            "[ 2  4  6  8 10 12 14 16]\n",
            "==================================================\n",
            "[[ 5  6  7  8]\n",
            " [ 9 10 11 12]]\n",
            "==================================================\n",
            "[[ 3  4]\n",
            " [ 7  8]\n",
            " [11 12]\n",
            " [15 16]]\n",
            "==================================================\n",
            "[[ 6  7]\n",
            " [10 11]]\n",
            "==================================================\n"
          ]
        }
      ]
    },
    {
      "cell_type": "markdown",
      "source": [
        "\n",
        "---\n",
        "\n",
        "## ➕ 5. Arithmetic Operations\n",
        "**Question:** Perform the following using NumPy arrays:\n",
        "1. Add two arrays element-wise\n",
        "2. Multiply two arrays element-wise\n",
        "3. Raise all elements of an array to the power of 2\n",
        "\n",
        "```python\n",
        "arr1 = np.array([1, 2, 3])\n",
        "arr2 = np.array([4, 5, 6])\n",
        "\n",
        "```\n",
        "\n",
        "---\n"
      ],
      "metadata": {
        "id": "TYIR2o4w_qHm"
      }
    },
    {
      "cell_type": "code",
      "source": [
        "arr1 = np.array([1, 2, 3])\n",
        "arr2 = np.array([4, 5, 6])\n",
        "\n",
        "arr_sum=(arr1+arr2)\n",
        "print(arr_sum)\n",
        "print('='*50)\n",
        "\n",
        "arr_mult=(arr1*arr2)\n",
        "print(arr_mult)\n",
        "print('='*50)\n",
        "\n",
        "arr_power=(arr1**2)\n",
        "print(arr_power)\n",
        "print('='*50)"
      ],
      "metadata": {
        "id": "3pOaUm-y_--J",
        "colab": {
          "base_uri": "https://localhost:8080/"
        },
        "outputId": "18330676-5e75-4bae-a432-26a72e8f251f"
      },
      "execution_count": null,
      "outputs": [
        {
          "output_type": "stream",
          "name": "stdout",
          "text": [
            "[5 7 9]\n",
            "==================================================\n",
            "[ 4 10 18]\n",
            "==================================================\n",
            "[1 4 9]\n",
            "==================================================\n"
          ]
        }
      ]
    },
    {
      "cell_type": "markdown",
      "source": [
        "\n",
        "## 📏 6. Broadcasting\n",
        "**Question:** Use broadcasting to:\n",
        "1. Add a 1D array to each row of a 2D array\n",
        "2. Multiply each row of a 2D array by a 1D array\n",
        "3. Subtract a scalar from each element in an array\n",
        "4. Add a column vector to each column of a matrix\n",
        "\n",
        "```python\n",
        "A = np.array([[1, 2, 3],\n",
        "              [4, 5, 6]])\n",
        "\n",
        "B = np.array([10, 20, 30])\n",
        "C = np.array([[1], [2]])\n",
        "\n",
        "```\n"
      ],
      "metadata": {
        "id": "mfYIu2L9_rl6"
      }
    },
    {
      "cell_type": "code",
      "source": [
        "A = np.array([[1, 2, 3], [4, 5, 6]])\n",
        "B = np.array([10, 20, 30])\n",
        "C = np.array([[1], [2]])\n",
        "\n",
        "res1=A+B\n",
        "print(res1)\n",
        "print('='*50)\n",
        "\n",
        "res2=A*B\n",
        "print(res2)\n",
        "print('='*50)\n",
        "\n",
        "res3=A-5\n",
        "print(res3)\n",
        "print('='*50)\n",
        "\n",
        "res4 = A + C\n",
        "print(res4)\n",
        "print('='*50)"
      ],
      "metadata": {
        "id": "HLueW9R2__sQ",
        "colab": {
          "base_uri": "https://localhost:8080/"
        },
        "outputId": "ffa87125-2955-46f5-bdb3-b66e92bf8ebf"
      },
      "execution_count": null,
      "outputs": [
        {
          "output_type": "stream",
          "name": "stdout",
          "text": [
            "[[11 22 33]\n",
            " [14 25 36]]\n",
            "==================================================\n",
            "[[ 10  40  90]\n",
            " [ 40 100 180]]\n",
            "==================================================\n",
            "[[-4 -3 -2]\n",
            " [-1  0  1]]\n",
            "==================================================\n",
            "[[2 3 4]\n",
            " [6 7 8]]\n",
            "==================================================\n"
          ]
        }
      ]
    },
    {
      "cell_type": "markdown",
      "source": [
        "\n",
        "---\n",
        "\n",
        "## 🔁 7. More Broadcasting Practice\n",
        "**Question:** Try these:\n",
        "1. Add a 1D array of shape (4,) to a 2D array of shape (3,4)\n",
        "2. Multiply a (3,1) column array to a (1,4) row array and observe the shape\n",
        "3. Add a scalar to the entire array\n",
        "\n",
        "```python\n",
        "A = np.arange(12).reshape(3, 4)\n",
        "B = np.array([100, 200, 300, 400])\n",
        "C = np.array([[2], [3], [4]])\n",
        "\n",
        "```\n"
      ],
      "metadata": {
        "id": "GwaQHqqM_szI"
      }
    },
    {
      "cell_type": "code",
      "source": [
        "A = np.arange(12).reshape(3, 4)\n",
        "B = np.array([100, 200, 300, 400])\n",
        "C = np.array([[2], [3], [4]])\n",
        "\n",
        "res1=A+B\n",
        "print(res1)\n",
        "print('='*50)\n",
        "\n",
        "res2=C*B\n",
        "print(res2)\n",
        "print('='*50)\n",
        "\n",
        "res3=B+5\n",
        "print(res3)\n",
        "print('='*50)"
      ],
      "metadata": {
        "id": "92PwMwBtAAwq",
        "colab": {
          "base_uri": "https://localhost:8080/"
        },
        "outputId": "8632ca25-38a3-4ef1-8a97-3d0d1f1777a9"
      },
      "execution_count": null,
      "outputs": [
        {
          "output_type": "stream",
          "name": "stdout",
          "text": [
            "[[100 201 302 403]\n",
            " [104 205 306 407]\n",
            " [108 209 310 411]]\n",
            "==================================================\n",
            "[[ 200  400  600  800]\n",
            " [ 300  600  900 1200]\n",
            " [ 400  800 1200 1600]]\n",
            "==================================================\n",
            "[105 205 305 405]\n",
            "==================================================\n"
          ]
        }
      ]
    },
    {
      "cell_type": "markdown",
      "source": [
        "\n",
        "---\n",
        "\n",
        "## 🔃 8. Reshaping and Flattening\n",
        "**Question:**\n",
        "1. Reshape a 1D array of 12 elements into a 3x4 matrix\n",
        "2. Flatten a 2D array into a 1D array\n",
        "\n",
        "```python\n",
        "arr = np.arange(12)\n",
        "\n",
        "```\n"
      ],
      "metadata": {
        "id": "s0-ElcHm_uLL"
      }
    },
    {
      "cell_type": "code",
      "source": [
        "arr = np.arange(12).reshape(3,4)\n",
        "print(arr)\n",
        "print('='*50)\n",
        "arr=arr.flatten()\n",
        "print(arr)"
      ],
      "metadata": {
        "id": "6cuXtuHNABj7",
        "colab": {
          "base_uri": "https://localhost:8080/"
        },
        "outputId": "af22794c-329a-46a9-ebfd-df0e33607cef"
      },
      "execution_count": null,
      "outputs": [
        {
          "output_type": "stream",
          "name": "stdout",
          "text": [
            "[[ 0  1  2  3]\n",
            " [ 4  5  6  7]\n",
            " [ 8  9 10 11]]\n",
            "==================================================\n",
            "[ 0  1  2  3  4  5  6  7  8  9 10 11]\n"
          ]
        }
      ]
    },
    {
      "cell_type": "markdown",
      "source": [
        "\n",
        "---\n",
        "\n",
        "## 🔗 9. Stacking and Splitting\n",
        "**Question:** Stack and split arrays:\n",
        "1. Stack two (2, 2) arrays vertically and horizontally\n",
        "2. reshape a (4, 4) array into array of shape (2, 8)\n",
        "\n",
        "\n",
        "---\n"
      ],
      "metadata": {
        "id": "wE_NIjfD_wYt"
      }
    },
    {
      "cell_type": "code",
      "source": [
        "a=np.array([[1,2],\n",
        "           [3,4]])\n",
        "b=np.array([[5,6],\n",
        "           [7,8]])\n",
        "\n",
        "v_stacked = np.vstack((a, b))\n",
        "h_stacked = np.hstack((a, b))\n",
        "print(v_stacked)\n",
        "print('='*50)\n",
        "print(h_stacked)\n",
        "print('='*50)\n",
        "\n",
        "c=np.arange(16).reshape(4,4)\n",
        "c=c.reshape(2,8)\n",
        "c"
      ],
      "metadata": {
        "colab": {
          "base_uri": "https://localhost:8080/"
        },
        "id": "e9yb7E80mqDY",
        "outputId": "9b8196d9-9052-439a-b6b3-d2b31435aa88"
      },
      "execution_count": null,
      "outputs": [
        {
          "output_type": "stream",
          "name": "stdout",
          "text": [
            "[[1 2]\n",
            " [3 4]\n",
            " [5 6]\n",
            " [7 8]]\n",
            "==================================================\n",
            "[[1 2 5 6]\n",
            " [3 4 7 8]]\n",
            "==================================================\n"
          ]
        },
        {
          "output_type": "execute_result",
          "data": {
            "text/plain": [
              "array([[ 0,  1,  2,  3,  4,  5,  6,  7],\n",
              "       [ 8,  9, 10, 11, 12, 13, 14, 15]])"
            ]
          },
          "metadata": {},
          "execution_count": 34
        }
      ]
    },
    {
      "cell_type": "markdown",
      "source": [
        "\n",
        "## 🧠 10. Boolean Masking\n",
        "**Question:**\n",
        "Given an array:\n",
        "1. Select all elements > 10\n",
        "2. Replace all even numbers with -1\n",
        "\n",
        "```python\n",
        "arr = np.array([[5, 10, 15], [20, 25, 30]])\n",
        "\n",
        "```\n"
      ],
      "metadata": {
        "id": "xEMoDhIO_xz1"
      }
    },
    {
      "cell_type": "code",
      "source": [
        "arr = np.array([[5, 10, 15], [20, 25, 30]])\n",
        "print(arr[arr>10])\n",
        "print('='*50)\n",
        "\n",
        "arr[arr%2==0]=-1\n",
        "arr"
      ],
      "metadata": {
        "id": "jejS1-qiADMy",
        "colab": {
          "base_uri": "https://localhost:8080/"
        },
        "outputId": "a5ca757e-ae8c-42bd-b255-2bdacdbda63f"
      },
      "execution_count": null,
      "outputs": [
        {
          "output_type": "stream",
          "name": "stdout",
          "text": [
            "[15 20 25 30]\n",
            "==================================================\n"
          ]
        },
        {
          "output_type": "execute_result",
          "data": {
            "text/plain": [
              "array([[ 5, -1, 15],\n",
              "       [-1, 25, -1]])"
            ]
          },
          "metadata": {},
          "execution_count": 41
        }
      ]
    },
    {
      "cell_type": "markdown",
      "source": [
        "\n",
        "---\n",
        "\n",
        "## 🧮 11. Aggregation\n",
        "**Question:** Calculate:\n",
        "1. Sum of all elements\n",
        "2. Mean of each column\n",
        "3. Max value in each row\n",
        "4. Standard deviation of the array\n",
        "\n",
        "```python\n",
        "arr = np.array([[1, 2, 3], [4, 5, 6]])\n",
        "\n",
        "```\n"
      ],
      "metadata": {
        "id": "9AY2Y8HR_zSR"
      }
    },
    {
      "cell_type": "code",
      "source": [
        "arr = np.array([[1, 2, 3], [4, 5, 6]])\n",
        "print(np.sum(arr))\n",
        "print('='*50)\n",
        "print(np.mean(arr))\n",
        "print('='*50)\n",
        "print(np.max(arr))\n",
        "print('='*50)\n",
        "print(np.std(arr))\n",
        "print('='*50)"
      ],
      "metadata": {
        "id": "xlaIab8NAESs",
        "colab": {
          "base_uri": "https://localhost:8080/"
        },
        "outputId": "f278913e-fbda-449b-e199-7d79cfc9a8af"
      },
      "execution_count": null,
      "outputs": [
        {
          "output_type": "stream",
          "name": "stdout",
          "text": [
            "21\n",
            "==================================================\n",
            "3.5\n",
            "==================================================\n",
            "6\n",
            "==================================================\n",
            "1.707825127659933\n",
            "==================================================\n"
          ]
        }
      ]
    },
    {
      "cell_type": "markdown",
      "source": [
        "\n",
        "---\n",
        "\n",
        "## 🧲 12. Dot Product and Matrix Multiplication\n",
        "**Question:**\n",
        "1. Multiply two matrices using `np.dot`\n",
        "\n",
        "```python\n",
        "A = np.array([[1, 2],\n",
        "              [3, 4]])\n",
        "B = np.array([[5, 6],\n",
        "              [7, 8]])\n",
        "\n",
        "```\n"
      ],
      "metadata": {
        "id": "N4mqr1Gr_0Kt"
      }
    },
    {
      "cell_type": "code",
      "source": [
        "A = np.array([[1, 2],\n",
        "              [3, 4]])\n",
        "B = np.array([[5, 6],\n",
        "              [7, 8]])\n",
        "np.dot(A,B)"
      ],
      "metadata": {
        "id": "gbWAzqoYAFR0",
        "colab": {
          "base_uri": "https://localhost:8080/"
        },
        "outputId": "43b5a34a-5bc9-40c9-dd81-14d8764c83d0"
      },
      "execution_count": null,
      "outputs": [
        {
          "output_type": "execute_result",
          "data": {
            "text/plain": [
              "array([[19, 22],\n",
              "       [43, 50]])"
            ]
          },
          "metadata": {},
          "execution_count": 45
        }
      ]
    },
    {
      "cell_type": "markdown",
      "source": [
        "\n",
        "---\n",
        "\n",
        "## 🔢 13. Random Numbers\n",
        "**Question:**\n",
        "1. Generate a 2x3 array of random numbers between 0 and 1\n",
        "2. Generate 10 random integers between 50 and 100\n",
        "\n"
      ],
      "metadata": {
        "id": "W1UDOAdi_1ar"
      }
    },
    {
      "cell_type": "code",
      "source": [
        "arr=np.random.rand(6).reshape(2,3)\n",
        "print(arr)\n",
        "arr2=np.random.randint(50,100,10)\n",
        "print(arr2)"
      ],
      "metadata": {
        "id": "jOVTvy_hAGcv",
        "colab": {
          "base_uri": "https://localhost:8080/"
        },
        "outputId": "58bbb907-8bcf-4ad7-98cf-1a72f1ce4ee9"
      },
      "execution_count": null,
      "outputs": [
        {
          "output_type": "stream",
          "name": "stdout",
          "text": [
            "[[0.8641452  0.63730227 0.38421783]\n",
            " [0.75504623 0.48291824 0.40625779]]\n",
            "[52 53 86 97 99 72 71 76 69 85]\n"
          ]
        }
      ]
    },
    {
      "cell_type": "markdown",
      "source": [
        "\n",
        "---\n",
        "\n",
        "## 📐 14. Linear Algebra\n",
        "**Question:**\n",
        "1. Find the rank of a matrix\n",
        "2. Compute the inverse of a matrix\n",
        "3. Compute the determinant of a matrix\n",
        "\n",
        "\n",
        "\n",
        "---\n"
      ],
      "metadata": {
        "id": "O-rWgFCv_27-"
      }
    },
    {
      "cell_type": "code",
      "source": [
        "arr=np.random.randint(50,100,9).reshape(3,3)\n",
        "print(arr)\n",
        "print('='*50)\n",
        "print(np.linalg.matrix_rank(arr))\n",
        "print('='*50)\n",
        "print(np.linalg.inv(arr))\n",
        "print('='*50)\n",
        "print(np.linalg.det(arr))\n"
      ],
      "metadata": {
        "id": "rcW7oVrGAGwI",
        "colab": {
          "base_uri": "https://localhost:8080/"
        },
        "outputId": "98a07bfd-b698-4155-fb9c-d9960be70949"
      },
      "execution_count": null,
      "outputs": [
        {
          "output_type": "stream",
          "name": "stdout",
          "text": [
            "[[89 55 68]\n",
            " [95 78 75]\n",
            " [71 65 80]]\n",
            "==================================================\n",
            "3\n",
            "==================================================\n",
            "[[ 0.03440367  0.00050408 -0.0297157 ]\n",
            " [-0.05733945  0.05776792 -0.00541889]\n",
            " [ 0.01605505 -0.04738381  0.04327553]]\n",
            "==================================================\n",
            "39675.999999999985\n"
          ]
        }
      ]
    },
    {
      "cell_type": "markdown",
      "source": [
        "\n",
        "## ⭐ Bonus Challenge\n",
        "**Question:**\n",
        "Given a 2D array of shape (6, 6), extract all 3x3 submatrices (using slicing) and store them in a list.\n",
        "\n"
      ],
      "metadata": {
        "id": "lQb606tk_5L5"
      }
    },
    {
      "cell_type": "code",
      "source": [
        "\n",
        "arr=np.arange(36).reshape(6,6)\n",
        "print(arr)\n",
        "print('='*50)\n",
        "lst=[]\n",
        "\n",
        "for i in range(3):\n",
        "  for j in range(3):\n",
        "   lst.append(int(arr[i,j]))\n",
        "print('='*50)\n",
        "print(lst)"
      ],
      "metadata": {
        "id": "dNR9aI5m9Vrr",
        "colab": {
          "base_uri": "https://localhost:8080/"
        },
        "outputId": "34bd63df-cc81-4857-9281-344fd2f01689"
      },
      "execution_count": null,
      "outputs": [
        {
          "output_type": "stream",
          "name": "stdout",
          "text": [
            "[[ 0  1  2  3  4  5]\n",
            " [ 6  7  8  9 10 11]\n",
            " [12 13 14 15 16 17]\n",
            " [18 19 20 21 22 23]\n",
            " [24 25 26 27 28 29]\n",
            " [30 31 32 33 34 35]]\n",
            "==================================================\n",
            "==================================================\n",
            "[0, 1, 2, 6, 7, 8, 12, 13, 14]\n"
          ]
        }
      ]
    },
    {
      "cell_type": "markdown",
      "source": [
        "\n",
        "---\n",
        "\n",
        "Happy coding! 🎯\n"
      ],
      "metadata": {
        "id": "-qOCxwQnAJn2"
      }
    },
    {
      "cell_type": "code",
      "source": [],
      "metadata": {
        "id": "MBHa4EcJAJxF"
      },
      "execution_count": null,
      "outputs": []
    }
  ]
}